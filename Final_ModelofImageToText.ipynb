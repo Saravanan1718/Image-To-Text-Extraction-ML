{
  "nbformat": 4,
  "nbformat_minor": 0,
  "metadata": {
    "colab": {
      "name": "Final-ModelofImageToText.ipynb",
      "provenance": [],
      "collapsed_sections": [],
      "authorship_tag": "ABX9TyMovg3qRE0qrhSAtmtBwUSx",
      "include_colab_link": true
    },
    "kernelspec": {
      "display_name": "Python 3",
      "name": "python3"
    },
    "language_info": {
      "name": "python"
    }
  },
  "cells": [
    {
      "cell_type": "markdown",
      "metadata": {
        "id": "view-in-github",
        "colab_type": "text"
      },
      "source": [
        "<a href=\"https://colab.research.google.com/github/Saravanan1718/Image-To-Text-Extraction-ML/blob/main/Final_ModelofImageToText.ipynb\" target=\"_parent\"><img src=\"https://colab.research.google.com/assets/colab-badge.svg\" alt=\"Open In Colab\"/></a>"
      ]
    },
    {
      "cell_type": "markdown",
      "metadata": {
        "id": "rUKtsNy5rjKz"
      },
      "source": [
        "**Step 1:Import all the necessary packages for the model** "
      ]
    },
    {
      "cell_type": "code",
      "metadata": {
        "colab": {
          "base_uri": "https://localhost:8080/"
        },
        "id": "YacNlBooqe4Y",
        "outputId": "62c07b4d-80a4-4ecb-b7fc-5d7ee045d6a1"
      },
      "source": [
        "from __future__ import division\n",
        "import numpy as np\n",
        "import os\n",
        "import glob\n",
        "from random import *\n",
        "from PIL import Image\n",
        "from tensorflow.keras.utils import to_categorical\n",
        "from sklearn.preprocessing import LabelEncoder\n",
        "from sklearn.model_selection import train_test_split\n",
        "import matplotlib.pyplot as plt\n",
        "import pandas as pd\n",
        "import matplotlib.image as mpimg\n",
        "# %matplotlib inline\n",
        "from keras.models import Sequential\n",
        "from keras.layers import Dense, Dropout, Flatten, Lambda, ELU, Activation, BatchNormalization\n",
        "from keras.layers.convolutional import Convolution2D, Cropping2D, ZeroPadding2D, MaxPooling2D\n",
        "from keras.preprocessing.image import ImageDataGenerator\n",
        "from tensorflow.keras.optimizers import SGD, Adam, RMSprop\n",
        "from google.colab import drive\n"
      ],
      "execution_count": null,
      "outputs": [
        {
          "name": "stderr",
          "output_type": "stream",
          "text": [
            "/usr/local/lib/python3.7/dist-packages/tensorflow/python/framework/dtypes.py:516: FutureWarning: Passing (type, 1) or '1type' as a synonym of type is deprecated; in a future version of numpy, it will be understood as (type, (1,)) / '(1,)type'.\n",
            "  _np_qint8 = np.dtype([(\"qint8\", np.int8, 1)])\n",
            "/usr/local/lib/python3.7/dist-packages/tensorflow/python/framework/dtypes.py:517: FutureWarning: Passing (type, 1) or '1type' as a synonym of type is deprecated; in a future version of numpy, it will be understood as (type, (1,)) / '(1,)type'.\n",
            "  _np_quint8 = np.dtype([(\"quint8\", np.uint8, 1)])\n",
            "/usr/local/lib/python3.7/dist-packages/tensorflow/python/framework/dtypes.py:518: FutureWarning: Passing (type, 1) or '1type' as a synonym of type is deprecated; in a future version of numpy, it will be understood as (type, (1,)) / '(1,)type'.\n",
            "  _np_qint16 = np.dtype([(\"qint16\", np.int16, 1)])\n",
            "/usr/local/lib/python3.7/dist-packages/tensorflow/python/framework/dtypes.py:519: FutureWarning: Passing (type, 1) or '1type' as a synonym of type is deprecated; in a future version of numpy, it will be understood as (type, (1,)) / '(1,)type'.\n",
            "  _np_quint16 = np.dtype([(\"quint16\", np.uint16, 1)])\n",
            "/usr/local/lib/python3.7/dist-packages/tensorflow/python/framework/dtypes.py:520: FutureWarning: Passing (type, 1) or '1type' as a synonym of type is deprecated; in a future version of numpy, it will be understood as (type, (1,)) / '(1,)type'.\n",
            "  _np_qint32 = np.dtype([(\"qint32\", np.int32, 1)])\n",
            "/usr/local/lib/python3.7/dist-packages/tensorflow/python/framework/dtypes.py:525: FutureWarning: Passing (type, 1) or '1type' as a synonym of type is deprecated; in a future version of numpy, it will be understood as (type, (1,)) / '(1,)type'.\n",
            "  np_resource = np.dtype([(\"resource\", np.ubyte, 1)])\n",
            "/usr/local/lib/python3.7/dist-packages/tensorboard/compat/tensorflow_stub/dtypes.py:541: FutureWarning: Passing (type, 1) or '1type' as a synonym of type is deprecated; in a future version of numpy, it will be understood as (type, (1,)) / '(1,)type'.\n",
            "  _np_qint8 = np.dtype([(\"qint8\", np.int8, 1)])\n",
            "/usr/local/lib/python3.7/dist-packages/tensorboard/compat/tensorflow_stub/dtypes.py:542: FutureWarning: Passing (type, 1) or '1type' as a synonym of type is deprecated; in a future version of numpy, it will be understood as (type, (1,)) / '(1,)type'.\n",
            "  _np_quint8 = np.dtype([(\"quint8\", np.uint8, 1)])\n",
            "/usr/local/lib/python3.7/dist-packages/tensorboard/compat/tensorflow_stub/dtypes.py:543: FutureWarning: Passing (type, 1) or '1type' as a synonym of type is deprecated; in a future version of numpy, it will be understood as (type, (1,)) / '(1,)type'.\n",
            "  _np_qint16 = np.dtype([(\"qint16\", np.int16, 1)])\n",
            "/usr/local/lib/python3.7/dist-packages/tensorboard/compat/tensorflow_stub/dtypes.py:544: FutureWarning: Passing (type, 1) or '1type' as a synonym of type is deprecated; in a future version of numpy, it will be understood as (type, (1,)) / '(1,)type'.\n",
            "  _np_quint16 = np.dtype([(\"quint16\", np.uint16, 1)])\n",
            "/usr/local/lib/python3.7/dist-packages/tensorboard/compat/tensorflow_stub/dtypes.py:545: FutureWarning: Passing (type, 1) or '1type' as a synonym of type is deprecated; in a future version of numpy, it will be understood as (type, (1,)) / '(1,)type'.\n",
            "  _np_qint32 = np.dtype([(\"qint32\", np.int32, 1)])\n",
            "/usr/local/lib/python3.7/dist-packages/tensorboard/compat/tensorflow_stub/dtypes.py:550: FutureWarning: Passing (type, 1) or '1type' as a synonym of type is deprecated; in a future version of numpy, it will be understood as (type, (1,)) / '(1,)type'.\n",
            "  np_resource = np.dtype([(\"resource\", np.ubyte, 1)])\n",
            "Using TensorFlow backend.\n"
          ]
        }
      ]
    },
    {
      "cell_type": "markdown",
      "metadata": {
        "id": "FfPuhkHUr6Np"
      },
      "source": [
        "**Step 2:Uploading the Dataset to Google Drive for easy accessing**"
      ]
    },
    {
      "cell_type": "code",
      "metadata": {
        "colab": {
          "base_uri": "https://localhost:8080/"
        },
        "id": "9owlobY8T040",
        "outputId": "bc087b6c-299e-4fef-e030-80b5f9a7308e"
      },
      "source": [
        "drive.mount('/content/gdrive')\n",
        "d = {}\n",
        "from subprocess import check_output\n",
        "with open('/content/gdrive/My Drive/forms_for_parsing.txt') as f:\n",
        "    for line in f:\n",
        "        key = line.split(' ')[0]\n",
        "        writer = line.split(' ')[1]\n",
        "        d[key] = writer\n",
        "print(len(d.keys()))"
      ],
      "execution_count": null,
      "outputs": [
        {
          "name": "stdout",
          "output_type": "stream",
          "text": [
            "Drive already mounted at /content/gdrive; to attempt to forcibly remount, call drive.mount(\"/content/gdrive\", force_remount=True).\n",
            "1539\n"
          ]
        }
      ]
    },
    {
      "cell_type": "markdown",
      "metadata": {
        "id": "fBhcvCGNsVcg"
      },
      "source": [
        "**Step 3: Preprocess the Data**"
      ]
    },
    {
      "cell_type": "code",
      "metadata": {
        "colab": {
          "base_uri": "https://localhost:8080/"
        },
        "id": "8ZGu5Ct6ciO6",
        "outputId": "9788278e-7b41-4838-f652-1057ada05fe0"
      },
      "source": [
        "tmp=[]\n",
        "target_list = []\n",
        "path_to_files = os.path.join('/content/gdrive/My Drive/1596236508_34370_46011_bundle_archive/data_subset/data_subset', '*')\n",
        "for filename in sorted(glob.glob(path_to_files)):\n",
        "# print(filename)\n",
        "    tmp.append(filename)\n",
        "    image_name = filename.split('/')[-1]\n",
        "    file, ext = os.path.splitext(image_name)\n",
        "    parts = file.split('-')\n",
        "    form = parts[0] + '-' + parts[1]\n",
        "    for key in d:\n",
        "        if key == form:\n",
        "            target_list.append(str(d[form]))\n",
        "img_files = np.asarray(tmp)\n",
        "img_targets = np.asarray(target_list)\n",
        "print(img_files)\n",
        "print(img_targets)\n"
      ],
      "execution_count": null,
      "outputs": [
        {
          "name": "stdout",
          "output_type": "stream",
          "text": [
            "['/content/gdrive/My Drive/1596236508_34370_46011_bundle_archive/data_subset/data_subset/a01-000u-s00-00.png'\n",
            " '/content/gdrive/My Drive/1596236508_34370_46011_bundle_archive/data_subset/data_subset/a01-000u-s00-01.png'\n",
            " '/content/gdrive/My Drive/1596236508_34370_46011_bundle_archive/data_subset/data_subset/a01-000u-s00-02.png'\n",
            " ...\n",
            " '/content/gdrive/My Drive/1596236508_34370_46011_bundle_archive/data_subset/data_subset/r06-143-s03-00.png'\n",
            " '/content/gdrive/My Drive/1596236508_34370_46011_bundle_archive/data_subset/data_subset/r06-143-s04-00.png'\n",
            " '/content/gdrive/My Drive/1596236508_34370_46011_bundle_archive/data_subset/data_subset/r06-143-s04-01.png']\n",
            "['000' '000' '000' ... '635' '635' '635']\n"
          ]
        }
      ]
    },
    {
      "cell_type": "code",
      "metadata": {
        "colab": {
          "base_uri": "https://localhost:8080/",
          "height": 212
        },
        "id": "2FvLwQMdl1oM",
        "outputId": "f530363c-a23e-459d-f9dd-7f6775f4e083"
      },
      "source": [
        "# visualize the image data\n",
        "for filename in img_files[:3]:\n",
        "    img=mpimg.imread(filename)\n",
        "    plt.figure(figsize=(10,10))\n",
        "    plt.imshow(img, cmap ='gray')\n"
      ],
      "execution_count": null,
      "outputs": [
        {
          "data": {
            "image/png": "[encoded data removed]",
            "text/plain": [
              "<Figure size 720x720 with 1 Axes>"
            ]
          },
          "metadata": {},
          "output_type": "display_data"
        },
        {
          "data": {
            "image/png": "[encoded data removed]",
            "text/plain": [
              "<Figure size 720x720 with 1 Axes>"
            ]
          },
          "metadata": {},
          "output_type": "display_data"
        },
        {
          "data": {
            "image/png": "[encoded data removed]",
            "text/plain": [
              "<Figure size 720x720 with 1 Axes>"
            ]
          },
          "metadata": {},
          "output_type": "display_data"
        }
      ]
    },
    {
      "cell_type": "code",
      "metadata": {
        "colab": {
          "base_uri": "https://localhost:8080/"
        },
        "id": "M-AqoNBte4gB",
        "outputId": "f0df9f97-4409-4b74-c7c0-c0f73317b21d"
      },
      "source": [
        "encoder = LabelEncoder()\n",
        "encoder.fit(img_targets)\n",
        "encoded_Y = encoder.transform(img_targets)\n",
        "print(img_files[:10], img_targets[:10], encoded_Y[:10])\n"
      ],
      "execution_count": null,
      "outputs": [
        {
          "name": "stdout",
          "output_type": "stream",
          "text": [
            "['/content/gdrive/My Drive/1596236508_34370_46011_bundle_archive/data_subset/data_subset/a01-000u-s00-00.png'\n",
            " '/content/gdrive/My Drive/1596236508_34370_46011_bundle_archive/data_subset/data_subset/a01-000u-s00-01.png'\n",
            " '/content/gdrive/My Drive/1596236508_34370_46011_bundle_archive/data_subset/data_subset/a01-000u-s00-02.png'\n",
            " '/content/gdrive/My Drive/1596236508_34370_46011_bundle_archive/data_subset/data_subset/a01-000u-s00-03.png'\n",
            " '/content/gdrive/My Drive/1596236508_34370_46011_bundle_archive/data_subset/data_subset/a01-000u-s01-00.png'\n",
            " '/content/gdrive/My Drive/1596236508_34370_46011_bundle_archive/data_subset/data_subset/a01-000u-s01-01.png'\n",
            " '/content/gdrive/My Drive/1596236508_34370_46011_bundle_archive/data_subset/data_subset/a01-000u-s01-02.png'\n",
            " '/content/gdrive/My Drive/1596236508_34370_46011_bundle_archive/data_subset/data_subset/a01-000u-s01-03.png'\n",
            " '/content/gdrive/My Drive/1596236508_34370_46011_bundle_archive/data_subset/data_subset/a01-003u-s00-00.png'\n",
            " '/content/gdrive/My Drive/1596236508_34370_46011_bundle_archive/data_subset/data_subset/a01-003u-s00-01.png'] ['000' '000' '000' '000' '000' '000' '000' '000' '000' '000'] [0 0 0 0 0 0 0 0 0 0]\n"
          ]
        }
      ]
    },
    {
      "cell_type": "markdown",
      "metadata": {
        "id": "qmMfz5zxsgmx"
      },
      "source": [
        "**Step 4: Dividing the dataset into train and test and validation sets**"
      ]
    },
    {
      "cell_type": "code",
      "metadata": {
        "colab": {
          "base_uri": "https://localhost:8080/"
        },
        "id": "V4LGO_SefB-e",
        "outputId": "e3c033da-4db6-4b06-b39b-4f0f1b5774a9"
      },
      "source": [
        "# Splitting of data into training and validation sets for cross validation with 4:1:1 ratio.\n",
        "train_files, rem_files, train_targets, rem_targets = train_test_split(\n",
        "    img_files, encoded_Y, train_size=0.66, random_state=52, shuffle= True)\n",
        "validation_files, test_files, validation_targets, test_targets = train_test_split(\n",
        "    rem_files, rem_targets, train_size=0.5, random_state=22, shuffle=True)\n",
        "print(train_files.shape, validation_files.shape, test_files.shape)\n",
        "print(train_targets.shape, validation_targets.shape, test_targets.shape)"
      ],
      "execution_count": null,
      "outputs": [
        {
          "name": "stdout",
          "output_type": "stream",
          "text": [
            "(3233,) (833,) (833,)\n",
            "(3233,) (833,) (833,)\n"
          ]
        }
      ]
    },
    {
      "cell_type": "markdown",
      "metadata": {
        "id": "d73zZRKQssPt"
      },
      "source": [
        "**Defining Generator function **"
      ]
    },
    {
      "cell_type": "code",
      "metadata": {
        "id": "-l5-75-NmTp7"
      },
      "source": [
        "# Generator function for generating random crops from each sentence randomly cropping 113*113 patches from images\n",
        "batch_size = 10\n",
        "num_classes = 50\n",
        "def generate_data(samples, target_files, batch_size=batch_size, factor = 0.1 ):\n",
        "    num_samples = len(samples)\n",
        "    from sklearn.utils import shuffle\n",
        "    while 1: # Loop forever so the generator never terminates\n",
        "        for offset in range(0, num_samples, batch_size):\n",
        "            batch_samples = samples[offset:offset+batch_size]\n",
        "            batch_targets = target_files[offset:offset+batch_size]\n",
        "            images = []\n",
        "            targets = []\n",
        "            for i in range(len(batch_samples)):\n",
        "              batch_sample = batch_samples[i]\n",
        "              batch_target = batch_targets[i]\n",
        "              im = Image.open(batch_sample)\n",
        "              cur_width = im.size[0]\n",
        "              cur_height = im.size[1]\n",
        "              # print(cur_width, cur_height)\n",
        "              height_fac = 113 / cur_height\n",
        "              new_width = int(cur_width * height_fac)\n",
        "              size = new_width, 113\n",
        "              imresize = im.resize((size), Image.ANTIALIAS) # Resize so height = 113 while keeping aspect ratio\n",
        "              now_width = imresize.size[0]\n",
        "              now_height = imresize.size[1]\n",
        "# Generate crops of size 113x113 from this resized image and keep random 10% of crops\n",
        "              avail_x_points = list(range(0, now_width - 113 ))# total x start points are from 0 to width -113\n",
        "# Pick random x%\n",
        "              pick_num = int(len(avail_x_points)*factor)\n",
        "# Now pick\n",
        "              random_startx = sample(avail_x_points, pick_num)\n",
        "              for start in random_startx:\n",
        "                  imcrop = imresize.crop((start, 0, start+113, 113))\n",
        "                  images.append(np.asarray(imcrop))\n",
        "                  targets.append(batch_target)\n",
        "# trim image to only see section with road\n",
        "              X_train = np.array(images)\n",
        "              y_train = np.array(targets)\n",
        "#reshape X_train for feeding in later\n",
        "              X_train = X_train.reshape(X_train.shape[0], 113, 113, 1)\n",
        "#convert to float and normalize\n",
        "              X_train = X_train.astype('float32')\n",
        "              X_train /= 255\n",
        "#One hot encode y\n",
        "              y_train = to_categorical(y_train, num_classes)\n",
        "              yield shuffle(X_train, y_train)\n",
        "\n"
      ],
      "execution_count": null,
      "outputs": []
    },
    {
      "cell_type": "code",
      "metadata": {
        "id": "yqWP4yx37IuR"
      },
      "source": [
        "# Generate data for training and validation\n",
        "train_generator = generate_data(train_files, train_targets, batch_size=batch_size, factor = 0.3)\n",
        "validation_generator = generate_data(validation_files, validation_targets, batch_size=batch_size, factor = 0.3)\n",
        "test_generator = generate_data(test_files, test_targets, batch_size=batch_size, factor = 0.1)"
      ],
      "execution_count": null,
      "outputs": []
    },
    {
      "cell_type": "markdown",
      "metadata": {
        "id": "uBTQExEEs2M3"
      },
      "source": [
        "**Step 5 : Defining the model / network architecture**"
      ]
    },
    {
      "cell_type": "code",
      "metadata": {
        "colab": {
          "base_uri": "https://localhost:8080/"
        },
        "id": "fw9KnDdtoJkJ",
        "outputId": "fcc9dfa5-c9ee-4452-bf13-c433938740dd"
      },
      "source": [
        "# A Keras Model is built. Summary of the model is printed below.\n",
        "def resize_image(image):\n",
        "    import tensorflow as tf\n",
        "    return tf.image.resize(image,[56,56])\n",
        "# Function to resize image to 64x64\n",
        "row, col, ch = 113, 113, 1\n",
        "\n",
        "model = Sequential()\n",
        "model.add(ZeroPadding2D((1, 1), input_shape=(row, col, ch)))\n",
        "\n",
        "# Resise data within the neural network\n",
        "#model.add(Lambda(resize_image)) #resize images to allow for easy computation\n",
        "\n",
        "#model.add(Lambda(lambda x: resize_image))\n",
        "# CNN model - Building the model suggested in paper\n",
        "\n",
        "model.add(Convolution2D(filters= 32, kernel_size =(5,5), strides= (2,2), padding='same', name='conv1')) #96\n",
        "model.add(Activation('relu'))\n",
        "model.add(MaxPooling2D(pool_size=(2,2),strides=(2,2), name='pool1'))\n",
        "\n",
        "model.add(Convolution2D(filters= 64, kernel_size =(3,3), strides= (1,1), padding='same', name='conv2')) #256\n",
        "model.add(Activation('relu'))\n",
        "model.add(MaxPooling2D(pool_size=(2,2),strides=(2,2), name='pool2'))\n",
        "\n",
        "model.add(Convolution2D(filters=128, kernel_size =(3,3), strides= (1,1), padding='same', name='conv3')) #256\n",
        "model.add(Activation('relu'))\n",
        "model.add(MaxPooling2D(pool_size=(2,2),strides=(2,2), name='pool3'))\n",
        "\n",
        "model.add(Flatten())\n",
        "model.add(Dropout(0.5))\n",
        "\n",
        "model.add(Dense(128, name='dense1')) #1024\n",
        "\n",
        "# model.add(BatchNormalization())\n",
        "\n",
        "model.add(Activation('relu'))\n",
        "model.add(Dropout(0.5))\n",
        "\n",
        "model.add(Dense(64, name='dense2')) #1024\n",
        "model.add(Activation('relu'))\n",
        "model.add(Dropout(0.5))\n",
        "\n",
        "model.add(Dense(num_classes,name='output'))\n",
        "model.add(Activation('softmax'))\n",
        "model.compile(optimizer= 'adam' , loss= 'binary_crossentropy', metrics=['accuracy'])\n",
        "#model.compile(loss='categorical_crossentropy', optimizer=Adam(), metrics=['accuracy'])\n",
        "print(model.summary())"
      ],
      "execution_count": null,
      "outputs": [
        {
          "name": "stdout",
          "output_type": "stream",
          "text": [
            "WARNING:tensorflow:From /usr/local/lib/python3.7/dist-packages/keras/backend/tensorflow_backend.py:4070: The name tf.nn.max_pool is deprecated. Please use tf.nn.max_pool2d instead.\n",
            "\n",
            "Model: \"sequential_1\"\n",
            "_________________________________________________________________\n",
            "Layer (type)                 Output Shape              Param #   \n",
            "=================================================================\n",
            "zero_padding2d_1 (ZeroPaddin (None, 115, 115, 1)       0         \n",
            "_________________________________________________________________\n",
            "conv1 (Conv2D)               (None, 58, 58, 32)        832       \n",
            "_________________________________________________________________\n",
            "activation_1 (Activation)    (None, 58, 58, 32)        0         \n",
            "_________________________________________________________________\n",
            "pool1 (MaxPooling2D)         (None, 29, 29, 32)        0         \n",
            "_________________________________________________________________\n",
            "conv2 (Conv2D)               (None, 29, 29, 64)        18496     \n",
            "_________________________________________________________________\n",
            "activation_2 (Activation)    (None, 29, 29, 64)        0         \n",
            "_________________________________________________________________\n",
            "pool2 (MaxPooling2D)         (None, 14, 14, 64)        0         \n",
            "_________________________________________________________________\n",
            "conv3 (Conv2D)               (None, 14, 14, 128)       73856     \n",
            "_________________________________________________________________\n",
            "activation_3 (Activation)    (None, 14, 14, 128)       0         \n",
            "_________________________________________________________________\n",
            "pool3 (MaxPooling2D)         (None, 7, 7, 128)         0         \n",
            "_________________________________________________________________\n",
            "flatten_1 (Flatten)          (None, 6272)              0         \n",
            "_________________________________________________________________\n",
            "dropout_1 (Dropout)          (None, 6272)              0         \n",
            "_________________________________________________________________\n",
            "dense1 (Dense)               (None, 128)               802944    \n",
            "_________________________________________________________________\n",
            "activation_4 (Activation)    (None, 128)               0         \n",
            "_________________________________________________________________\n",
            "dropout_2 (Dropout)          (None, 128)               0         \n",
            "_________________________________________________________________\n",
            "dense2 (Dense)               (None, 64)                8256      \n",
            "_________________________________________________________________\n",
            "activation_5 (Activation)    (None, 64)                0         \n",
            "_________________________________________________________________\n",
            "dropout_3 (Dropout)          (None, 64)                0         \n",
            "_________________________________________________________________\n",
            "output (Dense)               (None, 50)                3250      \n",
            "_________________________________________________________________\n",
            "activation_6 (Activation)    (None, 50)                0         \n",
            "=================================================================\n",
            "Total params: 907,634\n",
            "Trainable params: 907,634\n",
            "Non-trainable params: 0\n",
            "_________________________________________________________________\n",
            "None\n"
          ]
        }
      ]
    },
    {
      "cell_type": "markdown",
      "metadata": {
        "id": "KaD5mcnLtHp9"
      },
      "source": [
        "**Step 6: Training the model**"
      ]
    },
    {
      "cell_type": "code",
      "metadata": {
        "colab": {
          "background_save": true,
          "base_uri": "https://localhost:8080/"
        },
        "id": "lgjeXMhK7sCN",
        "outputId": "e32b56d3-abd4-4e49-f020-1cde5b21f900"
      },
      "source": [
        "# Training the model \n",
        "\n",
        "nb_epoch = 4\n",
        "\n",
        "samples_per_epoch = 233\n",
        "nb_val_samples = 62\n",
        "\n",
        "\n",
        "\n",
        "from keras.callbacks import ModelCheckpoint\n",
        "filepath=\"gdrive/My Drive/check-{epoch:02d}-{val_loss:.4f}.hdf5\"\n",
        "checkpoint = ModelCheckpoint(filepath= filepath, verbose=1, save_best_only=False)\n",
        "callbacks_list = [checkpoint]\n",
        "\n",
        "\n",
        "history_object = model.fit_generator(train_generator, samples_per_epoch= samples_per_epoch,\n",
        "                                     validation_data=validation_generator,\n",
        "                                     nb_val_samples=nb_val_samples, nb_epoch=nb_epoch, verbose=1, callbacks=callbacks_list)\n"
      ],
      "execution_count": null,
      "outputs": [
        {
          "name": "stdout",
          "output_type": "stream",
          "text": [
            "WARNING:tensorflow:From /usr/local/lib/python3.7/dist-packages/tensorflow/python/ops/math_grad.py:1250: add_dispatch_support.<locals>.wrapper (from tensorflow.python.ops.array_ops) is deprecated and will be removed in a future version.\n",
            "Instructions for updating:\n",
            "Use tf.where in 2.0, which has the same broadcast rule as np.where\n"
          ]
        },
        {
          "name": "stderr",
          "output_type": "stream",
          "text": [
            "/usr/local/lib/python3.7/dist-packages/ipykernel_launcher.py:18: UserWarning: The semantics of the Keras 2 argument `steps_per_epoch` is not the same as the Keras 1 argument `samples_per_epoch`. `steps_per_epoch` is the number of batches to draw from the generator at each epoch. Basically steps_per_epoch = samples_per_epoch/batch_size. Similarly `nb_val_samples`->`validation_steps` and `val_samples`->`steps` arguments have changed. Update your method calls accordingly.\n",
            "/usr/local/lib/python3.7/dist-packages/ipykernel_launcher.py:18: UserWarning: Update your `fit_generator` call to the Keras 2 API: `fit_generator(<generator..., validation_data=<generator..., verbose=1, callbacks=[<keras.ca..., steps_per_epoch=233, epochs=4, validation_steps=62)`\n"
          ]
        },
        {
          "name": "stdout",
          "output_type": "stream",
          "text": [
            "WARNING:tensorflow:From /usr/local/lib/python3.7/dist-packages/keras/backend/tensorflow_backend.py:422: The name tf.global_variables is deprecated. Please use tf.compat.v1.global_variables instead.\n",
            "\n",
            "Epoch 1/4\n",
            "233/233 [==============================] - 3672s 16s/step - loss: 0.0954 - accuracy: 0.9799 - val_loss: 0.1156 - val_accuracy: 0.9800\n",
            "\n",
            "Epoch 00001: saving model to gdrive/My Drive/check-01-0.1156.hdf5\n",
            "Epoch 2/4\n",
            "233/233 [==============================] - 3798s 16s/step - loss: 0.0944 - accuracy: 0.9799 - val_loss: 0.0995 - val_accuracy: 0.9800\n",
            "\n",
            "Epoch 00002: saving model to gdrive/My Drive/check-02-0.0995.hdf5\n",
            "Epoch 3/4\n",
            "233/233 [==============================] - 3805s 16s/step - loss: 0.0908 - accuracy: 0.9797 - val_loss: 0.0886 - val_accuracy: 0.9800\n",
            "\n",
            "Epoch 00003: saving model to gdrive/My Drive/check-03-0.0886.hdf5\n",
            "Epoch 4/4\n",
            "233/233 [==============================] - 3811s 16s/step - loss: 0.0920 - accuracy: 0.9800 - val_loss: 0.0901 - val_accuracy: 0.9800\n",
            "\n",
            "Epoch 00004: saving model to gdrive/My Drive/check-04-0.0901.hdf5\n"
          ]
        }
      ]
    },
    {
      "cell_type": "markdown",
      "metadata": {
        "id": "dhSxdNmvtO5a"
      },
      "source": [
        "**Step 7: Saving the model**"
      ]
    },
    {
      "cell_type": "code",
      "metadata": {
        "id": "rhdDEY3DBbHC",
        "colab": {
          "base_uri": "https://localhost:8080/",
          "height": 34
        },
        "outputId": "cb15fe80-4bda-4832-dd33-2605432bddbc"
      },
      "source": [
        "#Saving the model and weights into GDrive\n",
        "\n",
        "from keras.models import model_from_json   \n",
        "# serialize model to JSON\n",
        "model_json = model.to_json()\n",
        "with open(\"gdrive/My Drive/HTR Model/HTR_Model.json\", \"w\") as json_file:\n",
        "    json_file.write(model_json)\n",
        "# serialize weights to HDF5\n",
        "model.save_weights(\"gdrive/My Drive/HTR Model/HTR_model_weights.hdf5\")\n",
        "print(\"Saved model to GDrive\")"
      ],
      "execution_count": null,
      "outputs": [
        {
          "output_type": "stream",
          "text": [
            "Saved model to GDrive\n"
          ],
          "name": "stdout"
        }
      ]
    },
    {
      "cell_type": "code",
      "metadata": {
        "id": "eGrrcyIPBmq_",
        "colab": {
          "base_uri": "https://localhost:8080/"
        },
        "outputId": "4e63936e-0660-4266-b986-1bbcc3b2d11e"
      },
      "source": [
        "#Loading json and weights to recover model\n",
        "import tensorflow as tf\n",
        "json_file = open(\"gdrive/My Drive/HTR_Model.json\", 'r')\n",
        "loaded_model_json = json_file.read()\n",
        "json_file.close()\n",
        "l_model = tf.keras.models.model_from_json(loaded_model_json)\n",
        "# load weights into new model\n",
        "l_model.load_weights(\"gdrive/My Drive/HTR_model_weights.hdf5\")\n",
        "print(\"Loaded model from Gdrive\")"
      ],
      "execution_count": null,
      "outputs": [
        {
          "output_type": "stream",
          "name": "stdout",
          "text": [
            "Loaded model from Gdrive\n"
          ]
        }
      ]
    },
    {
      "cell_type": "code",
      "metadata": {
        "id": "772Jd4b4Eh2y",
        "colab": {
          "base_uri": "https://localhost:8080/"
        },
        "outputId": "a4d9b08a-1219-4216-8698-a2ba16f14ae6"
      },
      "source": [
        "model.save(\"gdrive/My Drive/HTR_model.hdf5\")\n",
        "print(\"Saved Keras Model\")"
      ],
      "execution_count": null,
      "outputs": [
        {
          "output_type": "stream",
          "name": "stdout",
          "text": [
            "Saved Keras Model\n"
          ]
        }
      ]
    },
    {
      "cell_type": "code",
      "metadata": {
        "id": "z7wNSP5gE2Ea",
        "colab": {
          "base_uri": "https://localhost:8080/"
        },
        "outputId": "ef329a45-47c7-4de0-b0ed-77d749d40a63"
      },
      "source": [
        "#from keras.models import load_model\n",
        "# load model\n",
        "from tensorflow import keras\n",
        "loaded_model = keras.models.load_model(\"gdrive/My Drive/HTR_model.hdf5\", custom_objects=None, compile=True, options=None)\n",
        "print(\"Loaded the Keras Model\")"
      ],
      "execution_count": null,
      "outputs": [
        {
          "output_type": "stream",
          "name": "stdout",
          "text": [
            "Loaded the Keras Model\n"
          ]
        }
      ]
    },
    {
      "cell_type": "code",
      "metadata": {
        "id": "cRR4QQAOEQPc",
        "colab": {
          "base_uri": "https://localhost:8080/"
        },
        "outputId": "96dddca9-0778-4ad5-d19f-e650510d2fd5"
      },
      "source": [
        "print(loaded_model.summary())"
      ],
      "execution_count": null,
      "outputs": [
        {
          "output_type": "stream",
          "name": "stdout",
          "text": [
            "Model: \"sequential_2\"\n",
            "_________________________________________________________________\n",
            " Layer (type)                Output Shape              Param #   \n",
            "=================================================================\n",
            " zero_padding2d_2 (ZeroPaddi  (None, 115, 115, 1)      0         \n",
            " ng2D)                                                           \n",
            "                                                                 \n",
            " conv1 (Conv2D)              (None, 58, 58, 32)        832       \n",
            "                                                                 \n",
            " activation_12 (Activation)  (None, 58, 58, 32)        0         \n",
            "                                                                 \n",
            " pool1 (MaxPooling2D)        (None, 29, 29, 32)        0         \n",
            "                                                                 \n",
            " conv2 (Conv2D)              (None, 29, 29, 64)        18496     \n",
            "                                                                 \n",
            " activation_13 (Activation)  (None, 29, 29, 64)        0         \n",
            "                                                                 \n",
            " pool2 (MaxPooling2D)        (None, 14, 14, 64)        0         \n",
            "                                                                 \n",
            " conv3 (Conv2D)              (None, 14, 14, 128)       73856     \n",
            "                                                                 \n",
            " activation_14 (Activation)  (None, 14, 14, 128)       0         \n",
            "                                                                 \n",
            " pool3 (MaxPooling2D)        (None, 7, 7, 128)         0         \n",
            "                                                                 \n",
            " flatten_2 (Flatten)         (None, 6272)              0         \n",
            "                                                                 \n",
            " dropout_6 (Dropout)         (None, 6272)              0         \n",
            "                                                                 \n",
            " dense1 (Dense)              (None, 128)               802944    \n",
            "                                                                 \n",
            " activation_15 (Activation)  (None, 128)               0         \n",
            "                                                                 \n",
            " dropout_7 (Dropout)         (None, 128)               0         \n",
            "                                                                 \n",
            " dense2 (Dense)              (None, 64)                8256      \n",
            "                                                                 \n",
            " activation_16 (Activation)  (None, 64)                0         \n",
            "                                                                 \n",
            " dropout_8 (Dropout)         (None, 64)                0         \n",
            "                                                                 \n",
            " output (Dense)              (None, 50)                3250      \n",
            "                                                                 \n",
            " activation_17 (Activation)  (None, 50)                0         \n",
            "                                                                 \n",
            "=================================================================\n",
            "Total params: 907,634\n",
            "Trainable params: 907,634\n",
            "Non-trainable params: 0\n",
            "_________________________________________________________________\n",
            "None\n"
          ]
        }
      ]
    },
    {
      "cell_type": "markdown",
      "metadata": {
        "id": "yjY1N5h9tV7X"
      },
      "source": [
        "**Step 8: Testing the model**"
      ]
    },
    {
      "cell_type": "code",
      "metadata": {
        "id": "Qo5rCTI--gDX",
        "colab": {
          "base_uri": "https://localhost:8080/",
          "height": 34
        },
        "outputId": "8051b1c5-5e14-441b-e365-39f298de1275"
      },
      "source": [
        "#model.load_weights('gdrive/My Drive/check-04-0.0901.hdf5')\n",
        "scores = model.evaluate_generator(test_generator,280) \n",
        "print(\"Accuracy = \", scores[1])"
      ],
      "execution_count": null,
      "outputs": [
        {
          "output_type": "stream",
          "text": [
            "Accuracy =  0.9174939393997192\n"
          ],
          "name": "stdout"
        }
      ]
    },
    {
      "cell_type": "markdown",
      "metadata": {
        "id": "xlHAYQRAtdEh"
      },
      "source": [
        "**Step 9: Prediction**"
      ]
    },
    {
      "cell_type": "code",
      "metadata": {
        "id": "_1760zzHwwGl",
        "colab": {
          "base_uri": "https://localhost:8080/"
        },
        "outputId": "e319b7f6-b03c-4fc2-9618-cf291ce82cc1"
      },
      "source": [
        "images = []\n",
        "for filename in test_files[:50]:\n",
        "    im = Image.open(filename)\n",
        "    cur_width = im.size[0]\n",
        "    cur_height = im.size[1]\n",
        "\n",
        "   \n",
        "    height_fac = 113 / cur_height\n",
        "\n",
        "    new_width = int(cur_width * height_fac)\n",
        "    size = new_width, 113\n",
        "\n",
        "    imresize = im.resize((size), Image.ANTIALIAS)  \n",
        "    now_width = imresize.size[0]\n",
        "    now_height = imresize.size[1]\n",
        "\n",
        "\n",
        "    avail_x_points = list(range(0, now_width - 113 ))\n",
        "\n",
        "    \n",
        "    factor = 0.1\n",
        "    pick_num = int(len(avail_x_points)*factor)\n",
        "    \n",
        "    random_startx = sample(avail_x_points,  pick_num)\n",
        "\n",
        "    for start in random_startx:\n",
        "        imcrop = imresize.crop((start, 0, start+113, 113))\n",
        "        images.append(np.asarray(imcrop))\n",
        "        \n",
        "    X_test = np.array(images)\n",
        "    \n",
        "    X_test = X_test.reshape(X_test.shape[0], 113, 113, 1)\n",
        "   \n",
        "    X_test = X_test.astype('float32')\n",
        "    X_test /= 255\n",
        "    shuffle(X_test)\n",
        "\n",
        "print(X_test.shape)"
      ],
      "execution_count": null,
      "outputs": [
        {
          "output_type": "stream",
          "name": "stdout",
          "text": [
            "(6351, 113, 113, 1)\n"
          ]
        }
      ]
    },
    {
      "cell_type": "code",
      "metadata": {
        "id": "LEN_8d8Rw1h2",
        "colab": {
          "base_uri": "https://localhost:8080/"
        },
        "outputId": "a26ce405-8fec-4f65-a907-0215d447982c"
      },
      "source": [
        "predictions = loaded_model.predict(X_test, verbose =1)\n",
        "\n",
        "print(predictions.shape)\n",
        "predicted_writer = []\n",
        "for pred in predictions:\n",
        "    predicted_writer.append(np.argmax(pred))\n",
        "print(len(predicted_writer))"
      ],
      "execution_count": null,
      "outputs": [
        {
          "output_type": "stream",
          "name": "stdout",
          "text": [
            "WARNING:tensorflow:AutoGraph could not transform <function Model.make_predict_function.<locals>.predict_function at 0x7f316d479dd0> and will run it as-is.\n",
            "Please report this to the TensorFlow team. When filing the bug, set the verbosity to 10 (on Linux, `export AUTOGRAPH_VERBOSITY=10`) and attach the full output.\n",
            "Cause: closure mismatch, requested ('self', 'step_function'), but source function had ()\n",
            "To silence this warning, decorate the function with @tf.autograph.experimental.do_not_convert\n",
            "WARNING: AutoGraph could not transform <function Model.make_predict_function.<locals>.predict_function at 0x7f316d479dd0> and will run it as-is.\n",
            "Please report this to the TensorFlow team. When filing the bug, set the verbosity to 10 (on Linux, `export AUTOGRAPH_VERBOSITY=10`) and attach the full output.\n",
            "Cause: closure mismatch, requested ('self', 'step_function'), but source function had ()\n",
            "To silence this warning, decorate the function with @tf.autograph.experimental.do_not_convert\n",
            "199/199 [==============================] - 16s 81ms/step\n",
            "(6351, 50)\n",
            "6351\n"
          ]
        }
      ]
    },
    {
      "cell_type": "code",
      "metadata": {
        "id": "XY1Dll2Tw9HN"
      },
      "source": [
        "writer_number = 18\n",
        "total_images =10\n",
        "counter = 0\n",
        "for i in range(len(predicted_writer)//10):\n",
        "    if predicted_writer[i] == writer_number:\n",
        "        image = X_test[i].squeeze()\n",
        "        plt.figure(figsize=(2,2))\n",
        "        plt.imshow(image, cmap ='gray')"
      ],
      "execution_count": null,
      "outputs": []
    },
    {
      "cell_type": "code",
      "metadata": {
        "id": "jFyedbARNXnC",
        "colab": {
          "base_uri": "https://localhost:8080/"
        },
        "outputId": "00f6d785-75ce-4deb-a2d1-e834ada98157"
      },
      "source": [
        "writer_number = 18\n",
        "total_images =10\n",
        "counter = 0\n",
        "print(\"Saravanan R\")\n",
        "for i in range(len(predicted_writer)//10):\n",
        "    if predicted_writer[i] == writer_number:\n",
        "        image = X_test[i].squeeze()\n",
        "        plt.figure(figsize=(2,2))\n",
        "        plt.imshow(image, cmap ='gray')\n",
        "        plt.show()"
      ],
      "execution_count": null,
      "outputs": [
        {
          "output_type": "stream",
          "name": "stdout",
          "text": [
            "Saravanan R\n"
          ]
        }
      ]
    },
    {
      "cell_type": "markdown",
      "metadata": {
        "id": "7GZId1mwtjhN"
      },
      "source": [
        "**Step 10: Plotting the loss and accuracy **"
      ]
    },
    {
      "cell_type": "code",
      "metadata": {
        "id": "erE8eBdNyEOa"
      },
      "source": [
        "def plotgraph(epochs, acc, val_acc):\n",
        "    # Plot training & validation accuracy values\n",
        "    plt.plot(epochs, acc, 'b')\n",
        "    plt.plot(epochs, val_acc, 'r')\n",
        "    plt.title('Model accuracy')\n",
        "    plt.ylabel('Accuracy')\n",
        "    plt.xlabel('Epoch')\n",
        "    plt.legend(['Train', 'Val'], loc='upper left')\n",
        "    plt.show()"
      ],
      "execution_count": null,
      "outputs": []
    },
    {
      "cell_type": "code",
      "metadata": {
        "id": "IaGJIaq8PpgK"
      },
      "source": [
        "acc = history_object.history['accuracy']\n",
        "val_acc = history_object.history['val_accuracy']\n",
        "loss = history_object.history['loss']\n",
        "val_loss = history_object.history['val_loss']\n",
        "epochs = range(1,len(loss)+1)"
      ],
      "execution_count": null,
      "outputs": []
    },
    {
      "cell_type": "markdown",
      "metadata": {
        "id": "6cHr5cagttqH"
      },
      "source": [
        "**Loss vs Epoch Graph**"
      ]
    },
    {
      "cell_type": "code",
      "metadata": {
        "id": "ZLp00bqVIEkd",
        "colab": {
          "base_uri": "https://localhost:8080/",
          "height": 295
        },
        "outputId": "0b10cc61-6393-4a02-983b-968f8c59e761"
      },
      "source": [
        "plotgraph(epochs, loss, val_loss)"
      ],
      "execution_count": null,
      "outputs": [
        {
          "output_type": "display_data",
          "data": {
            "image/png": "[encoded data removed]",
            "text/plain": [
              "<Figure size 432x288 with 1 Axes>"
            ]
          },
          "metadata": {
            "tags": [],
            "needs_background": "light"
          }
        }
      ]
    },
    {
      "cell_type": "markdown",
      "metadata": {
        "id": "h1vyuBy9t2PT"
      },
      "source": [
        "**Accuracy vs Epoch Graph**"
      ]
    },
    {
      "cell_type": "code",
      "metadata": {
        "id": "Vh1ZnhZFPIzK",
        "colab": {
          "base_uri": "https://localhost:8080/",
          "height": 295
        },
        "outputId": "b15ecc8a-7ea5-466d-e987-47fbf4caa5ef"
      },
      "source": [
        "plotgraph(epochs, acc, val_acc)"
      ],
      "execution_count": null,
      "outputs": [
        {
          "output_type": "display_data",
          "data": {
            "image/png": "[encoded data removed]",
            "text/plain": [
              "<Figure size 432x288 with 1 Axes>"
            ]
          },
          "metadata": {
            "tags": [],
            "needs_background": "light"
          }
        }
      ]
    },
    {
      "cell_type": "markdown",
      "metadata": {
        "id": "kGMQ5WnGt8xd"
      },
      "source": [
        "**The End**"
      ]
    }
  ]
}